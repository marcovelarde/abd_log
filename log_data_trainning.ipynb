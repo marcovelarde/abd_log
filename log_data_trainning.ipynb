{
 "cells": [
  {
   "cell_type": "code",
   "execution_count": 1,
   "metadata": {},
   "outputs": [],
   "source": [
    "# !pip install xlrd\n",
    "# !pip install pandas\n",
    "import numpy as np\n",
    "import pandas as pd\n",
    "import random\n",
    "import re\n",
    "\n",
    "from pandas import Series, DataFrame\n",
    "from collections import Counter"
   ]
  },
  {
   "cell_type": "code",
   "execution_count": 2,
   "metadata": {},
   "outputs": [],
   "source": [
    "df_train = pd.read_excel('log_data_evil.xlsx', index_col=0)\n",
    "df_train.sort_index(ascending=True, inplace=True)\n",
    "\n",
    "df_train.drop(['http_user_agent'], inplace=True, axis=1)"
   ]
  },
  {
   "cell_type": "code",
   "execution_count": 3,
   "metadata": {},
   "outputs": [],
   "source": [
    "df_train.request_url.replace({r'^/$': '<BASE_URL>'}, regex=True, inplace=True)\n",
    "df_train.request_url.replace({r' \\%[\\%0-9A-Za-z]*': ' <PERCENT_URL> '},regex=True, inplace=True)\n",
    "df_train.request_url.replace({r'\\w+\\d+\\w+': ''},regex=True, inplace=True)\n",
    "df_train.request_url.replace({r'\\d{2,}': ''},regex=True, inplace=True)\n",
    "df_train.request_url.replace({r'\\[\\d*\\]': ' '},regex=True, inplace=True)\n",
    "df_train.request_url.replace({'/': ' ', ':': ' ', '\\.': ' ', '\\?': ' ', '=': ' ', '\\|': ' ', '&': ' '},regex=True, inplace=True)"
   ]
  },
  {
   "cell_type": "code",
   "execution_count": 4,
   "metadata": {},
   "outputs": [],
   "source": [
    "list_aux = df_train['request_url'].tolist()\n",
    "\n",
    "for i in range (len(list_aux)):\n",
    "    list_aux[i] = ' '.join(list_aux[i].split()).lower()"
   ]
  },
  {
   "cell_type": "code",
   "execution_count": 5,
   "metadata": {},
   "outputs": [],
   "source": [
    "as_one = ' '.join(list_aux)\n",
    "\n",
    "words = as_one.split()\n",
    "\n",
    "counts = Counter(words)\n",
    "vocab = sorted(counts, key=counts.get)\n",
    "\n",
    "word_index = {word: (i+8) for i, word in enumerate(vocab, 1)}\n",
    "word_index['<PAD>'] = 0\n",
    "word_index[\"<URL_START>\"] = 1\n",
    "word_index['<GET>'] = 2\n",
    "word_index['<POST>'] = 3\n",
    "word_index['<TEMPORARY_REDIRECT>'] = 4\n",
    "word_index['<BAD_REQUEST>'] = 5\n",
    "word_index['<NOT_FOUND>'] = 6\n",
    "word_index['<OK>'] = 7\n",
    "word_index['<MOVED_PERMANTLY>'] = 8\n",
    "\n",
    "\n",
    "reverse_word_index = dict([(value, key) for (key, value) in word_index.items()])\n",
    "\n",
    "def decode(ls):\n",
    "    return ' '.join([reverse_word_index.get(i, '?') for i in ls])\n",
    "\n",
    "def encode(text):\n",
    "    text_ls = []\n",
    "    for i in text.split():\n",
    "        try:\n",
    "            text_ls.append(word_index[i])\n",
    "        except KeyError:\n",
    "            print('Unhandled word \\'' + i + '\\'')\n",
    "    return text_ls\n",
    "\n",
    "def decode_single(text):\n",
    "    return reverse_word_index.get(text)\n",
    "\n",
    "def encode_single(text):\n",
    "    return word_index.get(text)\n",
    "\n",
    "def insert_start(ls):\n",
    "    ls.insert(0, 1)\n",
    "    return ls"
   ]
  },
  {
   "cell_type": "code",
   "execution_count": 30,
   "metadata": {},
   "outputs": [],
   "source": [
    "import pickle\n",
    "\n",
    "with open('abd_variables.pkl', 'wb') as f:\n",
    "    pickle.dump([word_index, reverse_word_index], f)"
   ]
  },
  {
   "cell_type": "code",
   "execution_count": 6,
   "metadata": {},
   "outputs": [],
   "source": [
    "df_train['request_url'] = df_train['request_url'].str.lower()\n",
    "df_train['request_url'] = df_train['request_url'].apply(encode)\n",
    "df_train['request_url'] = df_train['request_url'].apply(insert_start)"
   ]
  },
  {
   "cell_type": "code",
   "execution_count": 7,
   "metadata": {},
   "outputs": [],
   "source": [
    "df_train['request_method'].replace({'GET': 2, 'POST': 3}, inplace=True)"
   ]
  },
  {
   "cell_type": "code",
   "execution_count": 8,
   "metadata": {},
   "outputs": [],
   "source": [
    "df_train['status'].replace({307: '<TEMPORARY_REDIRECT>', 400: '<BAD_REQUEST>', 404: '<NOT_FOUND>', 200: '<OK>', 301: '<MOVED_PERMANTLY>'}, inplace=True)\n",
    "df_train['status'] = df_train['status'].apply(encode_single)"
   ]
  },
  {
   "cell_type": "code",
   "execution_count": 9,
   "metadata": {},
   "outputs": [],
   "source": [
    "total_labels = df_train['is_evil'].values\n",
    "df_train.drop('is_evil', axis=1, inplace=True)"
   ]
  },
  {
   "cell_type": "code",
   "execution_count": 10,
   "metadata": {},
   "outputs": [
    {
     "name": "stdout",
     "output_type": "stream",
     "text": [
      "the largest url have 11 words\n"
     ]
    }
   ],
   "source": [
    "max_lenght = 0\n",
    "for i in df_train.values:\n",
    "    if len(i[2]) > max_lenght:\n",
    "        max_lenght = len(i[2])\n",
    "\n",
    "print('the largest url have', max_lenght, 'words')"
   ]
  },
  {
   "cell_type": "code",
   "execution_count": 11,
   "metadata": {},
   "outputs": [
    {
     "name": "stdout",
     "output_type": "stream",
     "text": [
      "1.14.0\n",
      "['/device:CPU:0', '/device:XLA_CPU:0']\n"
     ]
    }
   ],
   "source": [
    "# from __future__ import absolute_import, division, print_function, unicode_literals\n",
    "\n",
    "import tensorflow as tf\n",
    "from tensorflow import keras\n",
    "\n",
    "print(tf.__version__)\n",
    "\n",
    "from tensorflow.python.client import device_lib\n",
    "\n",
    "def get_available_devices():\n",
    "    local_device_protos = device_lib.list_local_devices()\n",
    "    return [x.name for x in local_device_protos]\n",
    "\n",
    "print(get_available_devices())"
   ]
  },
  {
   "cell_type": "code",
   "execution_count": 12,
   "metadata": {},
   "outputs": [],
   "source": [
    "aux_request_data = keras.preprocessing.sequence.pad_sequences(df_train['request_url'].values,\n",
    "                                                        value=word_index[\"<PAD>\"],\n",
    "                                                        padding='post',\n",
    "                                                        maxlen=max_lenght)\n",
    "df_train['request_url'] = Series(aux_request_data.tolist())"
   ]
  },
  {
   "cell_type": "code",
   "execution_count": 13,
   "metadata": {},
   "outputs": [],
   "source": [
    "for i in range(max_lenght):\n",
    "    df_train['request_url' + str(i)] = 0\n",
    "    \n",
    "for i in df_train.itertuples():\n",
    "    for j in range(max_lenght):\n",
    "        df_train.at[i[0], 'request_url' + str(j)] = i[3][j]\n",
    "\n",
    "df_train.drop(['request_url'], axis=1, inplace=True)\n",
    "\n",
    "total_data = df_train.values"
   ]
  },
  {
   "cell_type": "code",
   "execution_count": 14,
   "metadata": {},
   "outputs": [
    {
     "name": "stdout",
     "output_type": "stream",
     "text": [
      "(7716, 13) (7716,)\n",
      "7716 7716\n"
     ]
    },
    {
     "data": {
      "text/plain": [
       "742"
      ]
     },
     "execution_count": 14,
     "metadata": {},
     "output_type": "execute_result"
    }
   ],
   "source": [
    "print(total_data.shape, total_labels.shape)\n",
    "print(len(total_data), len(total_labels))\n",
    "\n",
    "vocab_size = len(word_index.keys())\n",
    "\n",
    "vocab_size"
   ]
  },
  {
   "cell_type": "code",
   "execution_count": 15,
   "metadata": {},
   "outputs": [
    {
     "name": "stderr",
     "output_type": "stream",
     "text": [
      "WARNING: Logging before flag parsing goes to stderr.\n",
      "W0711 09:05:33.437913 140206357854016 deprecation.py:506] From /usr/local/lib/python3.6/dist-packages/tensorflow/python/keras/initializers.py:119: calling RandomUniform.__init__ (from tensorflow.python.ops.init_ops) with dtype is deprecated and will be removed in a future version.\n",
      "Instructions for updating:\n",
      "Call initializer instance with the dtype argument instead of passing it to the constructor\n",
      "W0711 09:05:33.483238 140206357854016 deprecation.py:506] From /usr/local/lib/python3.6/dist-packages/tensorflow/python/ops/init_ops.py:1251: calling VarianceScaling.__init__ (from tensorflow.python.ops.init_ops) with dtype is deprecated and will be removed in a future version.\n",
      "Instructions for updating:\n",
      "Call initializer instance with the dtype argument instead of passing it to the constructor\n"
     ]
    },
    {
     "name": "stdout",
     "output_type": "stream",
     "text": [
      "Model: \"sequential\"\n",
      "_________________________________________________________________\n",
      "Layer (type)                 Output Shape              Param #   \n",
      "=================================================================\n",
      "embedding (Embedding)        (None, None, 16)          11872     \n",
      "_________________________________________________________________\n",
      "global_average_pooling1d (Gl (None, 16)                0         \n",
      "_________________________________________________________________\n",
      "dense (Dense)                (None, 16)                272       \n",
      "_________________________________________________________________\n",
      "dense_1 (Dense)              (None, 1)                 17        \n",
      "=================================================================\n",
      "Total params: 12,161\n",
      "Trainable params: 12,161\n",
      "Non-trainable params: 0\n",
      "_________________________________________________________________\n"
     ]
    }
   ],
   "source": [
    "model = keras.Sequential()\n",
    "model.add(keras.layers.Embedding(vocab_size, 16))\n",
    "model.add(keras.layers.GlobalAveragePooling1D())\n",
    "model.add(keras.layers.Dense(16, activation=tf.nn.relu))\n",
    "model.add(keras.layers.Dense(1, activation=tf.nn.sigmoid))\n",
    "\n",
    "model.summary()"
   ]
  },
  {
   "cell_type": "code",
   "execution_count": 16,
   "metadata": {},
   "outputs": [
    {
     "name": "stderr",
     "output_type": "stream",
     "text": [
      "W0711 09:05:33.539999 140206357854016 deprecation.py:323] From /usr/local/lib/python3.6/dist-packages/tensorflow/python/ops/nn_impl.py:180: add_dispatch_support.<locals>.wrapper (from tensorflow.python.ops.array_ops) is deprecated and will be removed in a future version.\n",
      "Instructions for updating:\n",
      "Use tf.where in 2.0, which has the same broadcast rule as np.where\n"
     ]
    }
   ],
   "source": [
    "model.compile(optimizer='adam',\n",
    "              loss='binary_crossentropy',\n",
    "              metrics=['acc'])"
   ]
  },
  {
   "cell_type": "code",
   "execution_count": 17,
   "metadata": {},
   "outputs": [],
   "source": [
    "train_data = total_data[:3858]\n",
    "train_labels = total_labels[:3858]"
   ]
  },
  {
   "cell_type": "code",
   "execution_count": 18,
   "metadata": {},
   "outputs": [],
   "source": [
    "test_data = total_data[3858:]\n",
    "test_labels = total_labels[3858:]"
   ]
  },
  {
   "cell_type": "code",
   "execution_count": 19,
   "metadata": {},
   "outputs": [
    {
     "name": "stdout",
     "output_type": "stream",
     "text": [
      "3858 3858\n",
      "3858 3858\n"
     ]
    }
   ],
   "source": [
    "print(len(train_data), len(train_labels))\n",
    "print(len(test_data), len(test_labels))"
   ]
  },
  {
   "cell_type": "code",
   "execution_count": 20,
   "metadata": {},
   "outputs": [],
   "source": [
    "x_val = train_data[:1500]\n",
    "partial_x_train = train_data[1500:]\n",
    "\n",
    "y_val = train_labels[:1500]\n",
    "partial_y_train = train_labels[1500:]"
   ]
  },
  {
   "cell_type": "code",
   "execution_count": 21,
   "metadata": {},
   "outputs": [
    {
     "name": "stdout",
     "output_type": "stream",
     "text": [
      "2358 2358\n",
      "1500 1500\n"
     ]
    }
   ],
   "source": [
    "print(len(partial_x_train), len(partial_y_train))\n",
    "print(len(x_val), len(y_val))"
   ]
  },
  {
   "cell_type": "code",
   "execution_count": 22,
   "metadata": {
    "scrolled": true
   },
   "outputs": [
    {
     "name": "stdout",
     "output_type": "stream",
     "text": [
      "Train on 2358 samples, validate on 1500 samples\n",
      "Epoch 1/200\n",
      "2358/2358 [==============================] - 0s 93us/sample - loss: 0.5604 - acc: 0.8813 - val_loss: 0.4506 - val_acc: 0.8373\n",
      "Epoch 2/200\n",
      "2358/2358 [==============================] - 0s 49us/sample - loss: 0.3079 - acc: 0.9008 - val_loss: 0.3683 - val_acc: 0.8373\n",
      "Epoch 3/200\n",
      "2358/2358 [==============================] - 0s 53us/sample - loss: 0.2385 - acc: 0.9008 - val_loss: 0.2923 - val_acc: 0.8373\n",
      "Epoch 4/200\n",
      "2358/2358 [==============================] - 0s 52us/sample - loss: 0.1626 - acc: 0.9160 - val_loss: 0.1615 - val_acc: 0.9167\n",
      "Epoch 5/200\n",
      "2358/2358 [==============================] - 0s 53us/sample - loss: 0.0737 - acc: 0.9869 - val_loss: 0.0636 - val_acc: 0.9980\n",
      "Epoch 6/200\n",
      "2358/2358 [==============================] - 0s 53us/sample - loss: 0.0286 - acc: 1.0000 - val_loss: 0.0328 - val_acc: 0.9987\n",
      "Epoch 7/200\n",
      "2358/2358 [==============================] - 0s 51us/sample - loss: 0.0144 - acc: 1.0000 - val_loss: 0.0219 - val_acc: 0.9973\n",
      "Epoch 8/200\n",
      "2358/2358 [==============================] - 0s 52us/sample - loss: 0.0088 - acc: 1.0000 - val_loss: 0.0170 - val_acc: 0.9967\n",
      "Epoch 9/200\n",
      "2358/2358 [==============================] - 0s 51us/sample - loss: 0.0061 - acc: 1.0000 - val_loss: 0.0140 - val_acc: 0.9967\n",
      "Epoch 10/200\n",
      "2358/2358 [==============================] - 0s 48us/sample - loss: 0.0044 - acc: 1.0000 - val_loss: 0.0121 - val_acc: 0.9973\n",
      "Epoch 11/200\n",
      "2358/2358 [==============================] - 0s 49us/sample - loss: 0.0034 - acc: 1.0000 - val_loss: 0.0106 - val_acc: 0.9980\n",
      "Epoch 12/200\n",
      "2358/2358 [==============================] - 0s 52us/sample - loss: 0.0027 - acc: 1.0000 - val_loss: 0.0099 - val_acc: 0.9973\n",
      "Epoch 13/200\n",
      "2358/2358 [==============================] - 0s 53us/sample - loss: 0.0021 - acc: 1.0000 - val_loss: 0.0092 - val_acc: 0.9973\n",
      "Epoch 14/200\n",
      "2358/2358 [==============================] - 0s 53us/sample - loss: 0.0018 - acc: 1.0000 - val_loss: 0.0087 - val_acc: 0.9980\n",
      "Epoch 15/200\n",
      "2358/2358 [==============================] - 0s 53us/sample - loss: 0.0015 - acc: 1.0000 - val_loss: 0.0081 - val_acc: 0.9980\n",
      "Epoch 16/200\n",
      "2358/2358 [==============================] - 0s 54us/sample - loss: 0.0012 - acc: 1.0000 - val_loss: 0.0078 - val_acc: 0.9980\n",
      "Epoch 17/200\n",
      "2358/2358 [==============================] - 0s 54us/sample - loss: 0.0010 - acc: 1.0000 - val_loss: 0.0074 - val_acc: 0.9987\n",
      "Epoch 18/200\n",
      "2358/2358 [==============================] - 0s 59us/sample - loss: 8.9054e-04 - acc: 1.0000 - val_loss: 0.0074 - val_acc: 0.9980\n",
      "Epoch 19/200\n",
      "2358/2358 [==============================] - 0s 58us/sample - loss: 7.7212e-04 - acc: 1.0000 - val_loss: 0.0070 - val_acc: 0.9987\n",
      "Epoch 20/200\n",
      "2358/2358 [==============================] - 0s 61us/sample - loss: 6.7165e-04 - acc: 1.0000 - val_loss: 0.0068 - val_acc: 0.9987\n",
      "Epoch 21/200\n",
      "2358/2358 [==============================] - 0s 57us/sample - loss: 5.8525e-04 - acc: 1.0000 - val_loss: 0.0067 - val_acc: 0.9987\n",
      "Epoch 22/200\n",
      "2358/2358 [==============================] - 0s 58us/sample - loss: 5.1696e-04 - acc: 1.0000 - val_loss: 0.0066 - val_acc: 0.9987\n",
      "Epoch 23/200\n",
      "2358/2358 [==============================] - 0s 57us/sample - loss: 4.5461e-04 - acc: 1.0000 - val_loss: 0.0064 - val_acc: 0.9987\n",
      "Epoch 24/200\n",
      "2358/2358 [==============================] - 0s 58us/sample - loss: 4.0523e-04 - acc: 1.0000 - val_loss: 0.0064 - val_acc: 0.9987\n",
      "Epoch 25/200\n",
      "2358/2358 [==============================] - 0s 59us/sample - loss: 3.6064e-04 - acc: 1.0000 - val_loss: 0.0062 - val_acc: 0.9987\n",
      "Epoch 26/200\n",
      "2358/2358 [==============================] - 0s 58us/sample - loss: 3.2099e-04 - acc: 1.0000 - val_loss: 0.0062 - val_acc: 0.9987\n",
      "Epoch 27/200\n",
      "2358/2358 [==============================] - 0s 58us/sample - loss: 2.8838e-04 - acc: 1.0000 - val_loss: 0.0061 - val_acc: 0.9987\n",
      "Epoch 28/200\n",
      "2358/2358 [==============================] - 0s 58us/sample - loss: 2.5998e-04 - acc: 1.0000 - val_loss: 0.0060 - val_acc: 0.9987\n",
      "Epoch 29/200\n",
      "2358/2358 [==============================] - 0s 57us/sample - loss: 2.3420e-04 - acc: 1.0000 - val_loss: 0.0060 - val_acc: 0.9987\n",
      "Epoch 30/200\n",
      "2358/2358 [==============================] - 0s 58us/sample - loss: 2.1085e-04 - acc: 1.0000 - val_loss: 0.0060 - val_acc: 0.9987\n",
      "Epoch 31/200\n",
      "2358/2358 [==============================] - 0s 58us/sample - loss: 1.9248e-04 - acc: 1.0000 - val_loss: 0.0059 - val_acc: 0.9987\n",
      "Epoch 32/200\n",
      "2358/2358 [==============================] - 0s 57us/sample - loss: 1.7418e-04 - acc: 1.0000 - val_loss: 0.0059 - val_acc: 0.9987\n",
      "Epoch 33/200\n",
      "2358/2358 [==============================] - 0s 57us/sample - loss: 1.5888e-04 - acc: 1.0000 - val_loss: 0.0059 - val_acc: 0.9987\n",
      "Epoch 34/200\n",
      "2358/2358 [==============================] - 0s 57us/sample - loss: 1.4522e-04 - acc: 1.0000 - val_loss: 0.0058 - val_acc: 0.9987\n",
      "Epoch 35/200\n",
      "2358/2358 [==============================] - 0s 58us/sample - loss: 1.3203e-04 - acc: 1.0000 - val_loss: 0.0058 - val_acc: 0.9987\n",
      "Epoch 36/200\n",
      "2358/2358 [==============================] - 0s 59us/sample - loss: 1.2123e-04 - acc: 1.0000 - val_loss: 0.0058 - val_acc: 0.9987\n",
      "Epoch 37/200\n",
      "2358/2358 [==============================] - 0s 65us/sample - loss: 1.1096e-04 - acc: 1.0000 - val_loss: 0.0058 - val_acc: 0.9987\n",
      "Epoch 38/200\n",
      "2358/2358 [==============================] - 0s 66us/sample - loss: 1.0248e-04 - acc: 1.0000 - val_loss: 0.0057 - val_acc: 0.9987\n",
      "Epoch 39/200\n",
      "2358/2358 [==============================] - 0s 51us/sample - loss: 9.3535e-05 - acc: 1.0000 - val_loss: 0.0057 - val_acc: 0.9987\n",
      "Epoch 40/200\n",
      "2358/2358 [==============================] - 0s 49us/sample - loss: 8.5953e-05 - acc: 1.0000 - val_loss: 0.0057 - val_acc: 0.9987\n",
      "Epoch 41/200\n",
      "2358/2358 [==============================] - 0s 48us/sample - loss: 7.9226e-05 - acc: 1.0000 - val_loss: 0.0057 - val_acc: 0.9987\n",
      "Epoch 42/200\n",
      "2358/2358 [==============================] - 0s 49us/sample - loss: 7.2911e-05 - acc: 1.0000 - val_loss: 0.0057 - val_acc: 0.9987\n",
      "Epoch 43/200\n",
      "2358/2358 [==============================] - 0s 49us/sample - loss: 6.7661e-05 - acc: 1.0000 - val_loss: 0.0057 - val_acc: 0.9987\n",
      "Epoch 44/200\n",
      "2358/2358 [==============================] - 0s 48us/sample - loss: 6.2277e-05 - acc: 1.0000 - val_loss: 0.0057 - val_acc: 0.9987\n",
      "Epoch 45/200\n",
      "2358/2358 [==============================] - 0s 50us/sample - loss: 5.7715e-05 - acc: 1.0000 - val_loss: 0.0057 - val_acc: 0.9987\n",
      "Epoch 46/200\n",
      "2358/2358 [==============================] - 0s 52us/sample - loss: 5.3215e-05 - acc: 1.0000 - val_loss: 0.0057 - val_acc: 0.9987\n",
      "Epoch 47/200\n",
      "2358/2358 [==============================] - 0s 51us/sample - loss: 4.9384e-05 - acc: 1.0000 - val_loss: 0.0057 - val_acc: 0.9987\n",
      "Epoch 48/200\n",
      "2358/2358 [==============================] - 0s 49us/sample - loss: 4.5761e-05 - acc: 1.0000 - val_loss: 0.0057 - val_acc: 0.9987\n",
      "Epoch 49/200\n",
      "2358/2358 [==============================] - 0s 49us/sample - loss: 4.2337e-05 - acc: 1.0000 - val_loss: 0.0057 - val_acc: 0.9987\n",
      "Epoch 50/200\n",
      "2358/2358 [==============================] - 0s 48us/sample - loss: 3.9348e-05 - acc: 1.0000 - val_loss: 0.0057 - val_acc: 0.9987\n",
      "Epoch 51/200\n",
      "2358/2358 [==============================] - 0s 50us/sample - loss: 3.6562e-05 - acc: 1.0000 - val_loss: 0.0057 - val_acc: 0.9987\n",
      "Epoch 52/200\n",
      "2358/2358 [==============================] - 0s 49us/sample - loss: 3.3925e-05 - acc: 1.0000 - val_loss: 0.0057 - val_acc: 0.9987\n",
      "Epoch 53/200\n",
      "2358/2358 [==============================] - 0s 48us/sample - loss: 3.1524e-05 - acc: 1.0000 - val_loss: 0.0057 - val_acc: 0.9987\n",
      "Epoch 54/200\n",
      "2358/2358 [==============================] - 0s 48us/sample - loss: 2.9304e-05 - acc: 1.0000 - val_loss: 0.0057 - val_acc: 0.9987\n",
      "Epoch 55/200\n",
      "2358/2358 [==============================] - 0s 48us/sample - loss: 2.7496e-05 - acc: 1.0000 - val_loss: 0.0057 - val_acc: 0.9987\n",
      "Epoch 56/200\n",
      "2358/2358 [==============================] - 0s 48us/sample - loss: 2.5422e-05 - acc: 1.0000 - val_loss: 0.0057 - val_acc: 0.9987\n",
      "Epoch 57/200\n",
      "2358/2358 [==============================] - 0s 49us/sample - loss: 2.3698e-05 - acc: 1.0000 - val_loss: 0.0057 - val_acc: 0.9987\n",
      "Epoch 58/200\n"
     ]
    },
    {
     "name": "stdout",
     "output_type": "stream",
     "text": [
      "2358/2358 [==============================] - 0s 48us/sample - loss: 2.2060e-05 - acc: 1.0000 - val_loss: 0.0058 - val_acc: 0.9987\n",
      "Epoch 59/200\n",
      "2358/2358 [==============================] - 0s 53us/sample - loss: 2.0578e-05 - acc: 1.0000 - val_loss: 0.0058 - val_acc: 0.9987\n",
      "Epoch 60/200\n",
      "2358/2358 [==============================] - 0s 50us/sample - loss: 1.9180e-05 - acc: 1.0000 - val_loss: 0.0058 - val_acc: 0.9987\n",
      "Epoch 61/200\n",
      "2358/2358 [==============================] - 0s 52us/sample - loss: 1.7914e-05 - acc: 1.0000 - val_loss: 0.0058 - val_acc: 0.9987\n",
      "Epoch 62/200\n",
      "2358/2358 [==============================] - 0s 50us/sample - loss: 1.6755e-05 - acc: 1.0000 - val_loss: 0.0058 - val_acc: 0.9987\n",
      "Epoch 63/200\n",
      "2358/2358 [==============================] - 0s 49us/sample - loss: 1.5686e-05 - acc: 1.0000 - val_loss: 0.0058 - val_acc: 0.9987\n",
      "Epoch 64/200\n",
      "2358/2358 [==============================] - 0s 51us/sample - loss: 1.4581e-05 - acc: 1.0000 - val_loss: 0.0058 - val_acc: 0.9987\n",
      "Epoch 65/200\n",
      "2358/2358 [==============================] - 0s 52us/sample - loss: 1.3630e-05 - acc: 1.0000 - val_loss: 0.0058 - val_acc: 0.9987\n",
      "Epoch 66/200\n",
      "2358/2358 [==============================] - 0s 51us/sample - loss: 1.2739e-05 - acc: 1.0000 - val_loss: 0.0058 - val_acc: 0.9987\n",
      "Epoch 67/200\n",
      "2358/2358 [==============================] - 0s 48us/sample - loss: 1.1909e-05 - acc: 1.0000 - val_loss: 0.0059 - val_acc: 0.9987\n",
      "Epoch 68/200\n",
      "2358/2358 [==============================] - 0s 49us/sample - loss: 1.1141e-05 - acc: 1.0000 - val_loss: 0.0059 - val_acc: 0.9987\n",
      "Epoch 69/200\n",
      "2358/2358 [==============================] - 0s 50us/sample - loss: 1.0418e-05 - acc: 1.0000 - val_loss: 0.0059 - val_acc: 0.9987\n",
      "Epoch 70/200\n",
      "2358/2358 [==============================] - 0s 48us/sample - loss: 9.7881e-06 - acc: 1.0000 - val_loss: 0.0059 - val_acc: 0.9987\n",
      "Epoch 71/200\n",
      "2358/2358 [==============================] - 0s 48us/sample - loss: 9.1319e-06 - acc: 1.0000 - val_loss: 0.0059 - val_acc: 0.9987\n",
      "Epoch 72/200\n",
      "2358/2358 [==============================] - 0s 49us/sample - loss: 8.5563e-06 - acc: 1.0000 - val_loss: 0.0060 - val_acc: 0.9987\n",
      "Epoch 73/200\n",
      "2358/2358 [==============================] - 0s 52us/sample - loss: 7.9888e-06 - acc: 1.0000 - val_loss: 0.0060 - val_acc: 0.9987\n",
      "Epoch 74/200\n",
      "2358/2358 [==============================] - 0s 48us/sample - loss: 7.4761e-06 - acc: 1.0000 - val_loss: 0.0060 - val_acc: 0.9987\n",
      "Epoch 75/200\n",
      "2358/2358 [==============================] - 0s 48us/sample - loss: 6.9996e-06 - acc: 1.0000 - val_loss: 0.0060 - val_acc: 0.9987\n",
      "Epoch 76/200\n",
      "2358/2358 [==============================] - 0s 48us/sample - loss: 6.5496e-06 - acc: 1.0000 - val_loss: 0.0060 - val_acc: 0.9987\n",
      "Epoch 77/200\n",
      "2358/2358 [==============================] - 0s 48us/sample - loss: 6.1496e-06 - acc: 1.0000 - val_loss: 0.0060 - val_acc: 0.9987\n",
      "Epoch 78/200\n",
      "2358/2358 [==============================] - 0s 49us/sample - loss: 5.7578e-06 - acc: 1.0000 - val_loss: 0.0061 - val_acc: 0.9987\n",
      "Epoch 79/200\n",
      "2358/2358 [==============================] - 0s 50us/sample - loss: 5.4014e-06 - acc: 1.0000 - val_loss: 0.0061 - val_acc: 0.9987\n",
      "Epoch 80/200\n",
      "2358/2358 [==============================] - 0s 58us/sample - loss: 5.0621e-06 - acc: 1.0000 - val_loss: 0.0061 - val_acc: 0.9987\n",
      "Epoch 81/200\n",
      "2358/2358 [==============================] - 0s 64us/sample - loss: 4.7544e-06 - acc: 1.0000 - val_loss: 0.0061 - val_acc: 0.9987\n",
      "Epoch 82/200\n",
      "2358/2358 [==============================] - 0s 57us/sample - loss: 4.4705e-06 - acc: 1.0000 - val_loss: 0.0061 - val_acc: 0.9987\n",
      "Epoch 83/200\n",
      "2358/2358 [==============================] - 0s 53us/sample - loss: 4.1795e-06 - acc: 1.0000 - val_loss: 0.0062 - val_acc: 0.9987\n",
      "Epoch 84/200\n",
      "2358/2358 [==============================] - 0s 52us/sample - loss: 3.9173e-06 - acc: 1.0000 - val_loss: 0.0062 - val_acc: 0.9987\n",
      "Epoch 85/200\n",
      "2358/2358 [==============================] - 0s 52us/sample - loss: 3.6813e-06 - acc: 1.0000 - val_loss: 0.0062 - val_acc: 0.9987\n",
      "Epoch 86/200\n",
      "2358/2358 [==============================] - 0s 52us/sample - loss: 3.4538e-06 - acc: 1.0000 - val_loss: 0.0062 - val_acc: 0.9987\n",
      "Epoch 87/200\n",
      "2358/2358 [==============================] - 0s 53us/sample - loss: 3.2456e-06 - acc: 1.0000 - val_loss: 0.0062 - val_acc: 0.9987\n",
      "Epoch 88/200\n",
      "2358/2358 [==============================] - 0s 51us/sample - loss: 3.0390e-06 - acc: 1.0000 - val_loss: 0.0063 - val_acc: 0.9987\n",
      "Epoch 89/200\n",
      "2358/2358 [==============================] - 0s 52us/sample - loss: 2.8576e-06 - acc: 1.0000 - val_loss: 0.0063 - val_acc: 0.9987\n",
      "Epoch 90/200\n",
      "2358/2358 [==============================] - 0s 52us/sample - loss: 2.6760e-06 - acc: 1.0000 - val_loss: 0.0063 - val_acc: 0.9987\n",
      "Epoch 91/200\n",
      "2358/2358 [==============================] - 0s 51us/sample - loss: 2.5209e-06 - acc: 1.0000 - val_loss: 0.0063 - val_acc: 0.9987\n",
      "Epoch 92/200\n",
      "2358/2358 [==============================] - 0s 51us/sample - loss: 2.3599e-06 - acc: 1.0000 - val_loss: 0.0063 - val_acc: 0.9987\n",
      "Epoch 93/200\n",
      "2358/2358 [==============================] - 0s 55us/sample - loss: 2.2185e-06 - acc: 1.0000 - val_loss: 0.0064 - val_acc: 0.9987\n",
      "Epoch 94/200\n",
      "2358/2358 [==============================] - 0s 57us/sample - loss: 2.0860e-06 - acc: 1.0000 - val_loss: 0.0064 - val_acc: 0.9987\n",
      "Epoch 95/200\n",
      "2358/2358 [==============================] - 0s 56us/sample - loss: 1.9603e-06 - acc: 1.0000 - val_loss: 0.0064 - val_acc: 0.9987\n",
      "Epoch 96/200\n",
      "2358/2358 [==============================] - 0s 56us/sample - loss: 1.8386e-06 - acc: 1.0000 - val_loss: 0.0065 - val_acc: 0.9987\n",
      "Epoch 97/200\n",
      "2358/2358 [==============================] - 0s 55us/sample - loss: 1.7276e-06 - acc: 1.0000 - val_loss: 0.0065 - val_acc: 0.9987\n",
      "Epoch 98/200\n",
      "2358/2358 [==============================] - 0s 56us/sample - loss: 1.6241e-06 - acc: 1.0000 - val_loss: 0.0065 - val_acc: 0.9987\n",
      "Epoch 99/200\n",
      "2358/2358 [==============================] - 0s 48us/sample - loss: 1.5260e-06 - acc: 1.0000 - val_loss: 0.0065 - val_acc: 0.9987\n",
      "Epoch 100/200\n",
      "2358/2358 [==============================] - 0s 61us/sample - loss: 1.4367e-06 - acc: 1.0000 - val_loss: 0.0065 - val_acc: 0.9987\n",
      "Epoch 101/200\n",
      "2358/2358 [==============================] - 0s 72us/sample - loss: 1.3494e-06 - acc: 1.0000 - val_loss: 0.0065 - val_acc: 0.9987\n",
      "Epoch 102/200\n",
      "2358/2358 [==============================] - 0s 72us/sample - loss: 1.2728e-06 - acc: 1.0000 - val_loss: 0.0065 - val_acc: 0.9987\n",
      "Epoch 103/200\n",
      "2358/2358 [==============================] - 0s 71us/sample - loss: 1.1969e-06 - acc: 1.0000 - val_loss: 0.0066 - val_acc: 0.9987\n",
      "Epoch 104/200\n",
      "2358/2358 [==============================] - 0s 48us/sample - loss: 1.1243e-06 - acc: 1.0000 - val_loss: 0.0066 - val_acc: 0.9987\n",
      "Epoch 105/200\n",
      "2358/2358 [==============================] - 0s 48us/sample - loss: 1.0573e-06 - acc: 1.0000 - val_loss: 0.0066 - val_acc: 0.9987\n",
      "Epoch 106/200\n",
      "2358/2358 [==============================] - 0s 48us/sample - loss: 9.9593e-07 - acc: 1.0000 - val_loss: 0.0067 - val_acc: 0.9987\n",
      "Epoch 107/200\n",
      "2358/2358 [==============================] - 0s 48us/sample - loss: 9.3319e-07 - acc: 1.0000 - val_loss: 0.0067 - val_acc: 0.9987\n",
      "Epoch 108/200\n",
      "2358/2358 [==============================] - 0s 48us/sample - loss: 8.8003e-07 - acc: 1.0000 - val_loss: 0.0067 - val_acc: 0.9987\n",
      "Epoch 109/200\n",
      "2358/2358 [==============================] - 0s 48us/sample - loss: 8.2891e-07 - acc: 1.0000 - val_loss: 0.0068 - val_acc: 0.9987\n",
      "Epoch 110/200\n",
      "2358/2358 [==============================] - 0s 52us/sample - loss: 7.7605e-07 - acc: 1.0000 - val_loss: 0.0068 - val_acc: 0.9987\n",
      "Epoch 111/200\n",
      "2358/2358 [==============================] - 0s 54us/sample - loss: 7.2859e-07 - acc: 1.0000 - val_loss: 0.0068 - val_acc: 0.9987\n",
      "Epoch 112/200\n",
      "2358/2358 [==============================] - 0s 51us/sample - loss: 6.8605e-07 - acc: 1.0000 - val_loss: 0.0068 - val_acc: 0.9987\n",
      "Epoch 113/200\n",
      "2358/2358 [==============================] - 0s 50us/sample - loss: 6.4782e-07 - acc: 1.0000 - val_loss: 0.0069 - val_acc: 0.9987\n",
      "Epoch 114/200\n",
      "2358/2358 [==============================] - 0s 49us/sample - loss: 6.0371e-07 - acc: 1.0000 - val_loss: 0.0069 - val_acc: 0.9987\n",
      "Epoch 115/200\n"
     ]
    },
    {
     "name": "stdout",
     "output_type": "stream",
     "text": [
      "2358/2358 [==============================] - 0s 50us/sample - loss: 5.6879e-07 - acc: 1.0000 - val_loss: 0.0069 - val_acc: 0.9987\n",
      "Epoch 116/200\n",
      "2358/2358 [==============================] - 0s 50us/sample - loss: 5.3651e-07 - acc: 1.0000 - val_loss: 0.0069 - val_acc: 0.9987\n",
      "Epoch 117/200\n",
      "2358/2358 [==============================] - 0s 51us/sample - loss: 5.0659e-07 - acc: 1.0000 - val_loss: 0.0069 - val_acc: 0.9987\n",
      "Epoch 118/200\n",
      "2358/2358 [==============================] - 0s 49us/sample - loss: 4.7926e-07 - acc: 1.0000 - val_loss: 0.0070 - val_acc: 0.9987\n",
      "Epoch 119/200\n",
      "2358/2358 [==============================] - 0s 48us/sample - loss: 4.5135e-07 - acc: 1.0000 - val_loss: 0.0070 - val_acc: 0.9987\n",
      "Epoch 120/200\n",
      "2358/2358 [==============================] - 0s 49us/sample - loss: 4.2564e-07 - acc: 1.0000 - val_loss: 0.0070 - val_acc: 0.9987\n",
      "Epoch 121/200\n",
      "2358/2358 [==============================] - 0s 53us/sample - loss: 4.0203e-07 - acc: 1.0000 - val_loss: 0.0070 - val_acc: 0.9987\n",
      "Epoch 122/200\n",
      "2358/2358 [==============================] - 0s 52us/sample - loss: 3.7945e-07 - acc: 1.0000 - val_loss: 0.0070 - val_acc: 0.9987\n",
      "Epoch 123/200\n",
      "2358/2358 [==============================] - 0s 48us/sample - loss: 3.5758e-07 - acc: 1.0000 - val_loss: 0.0071 - val_acc: 0.9987\n",
      "Epoch 124/200\n",
      "2358/2358 [==============================] - 0s 48us/sample - loss: 3.3753e-07 - acc: 1.0000 - val_loss: 0.0071 - val_acc: 0.9987\n",
      "Epoch 125/200\n",
      "2358/2358 [==============================] - 0s 60us/sample - loss: 3.1778e-07 - acc: 1.0000 - val_loss: 0.0071 - val_acc: 0.9987\n",
      "Epoch 126/200\n",
      "2358/2358 [==============================] - 0s 65us/sample - loss: 3.0022e-07 - acc: 1.0000 - val_loss: 0.0072 - val_acc: 0.9987\n",
      "Epoch 127/200\n",
      "2358/2358 [==============================] - 0s 65us/sample - loss: 2.8314e-07 - acc: 1.0000 - val_loss: 0.0072 - val_acc: 0.9987\n",
      "Epoch 128/200\n",
      "2358/2358 [==============================] - 0s 65us/sample - loss: 2.6717e-07 - acc: 1.0000 - val_loss: 0.0072 - val_acc: 0.9987\n",
      "Epoch 129/200\n",
      "2358/2358 [==============================] - 0s 65us/sample - loss: 2.5243e-07 - acc: 1.0000 - val_loss: 0.0073 - val_acc: 0.9987\n",
      "Epoch 130/200\n",
      "2358/2358 [==============================] - 0s 78us/sample - loss: 2.3787e-07 - acc: 1.0000 - val_loss: 0.0073 - val_acc: 0.9987\n",
      "Epoch 131/200\n",
      "2358/2358 [==============================] - 0s 70us/sample - loss: 2.2482e-07 - acc: 1.0000 - val_loss: 0.0073 - val_acc: 0.9987\n",
      "Epoch 132/200\n",
      "2358/2358 [==============================] - 0s 69us/sample - loss: 2.1179e-07 - acc: 1.0000 - val_loss: 0.0073 - val_acc: 0.9987\n",
      "Epoch 133/200\n",
      "2358/2358 [==============================] - 0s 69us/sample - loss: 1.9956e-07 - acc: 1.0000 - val_loss: 0.0073 - val_acc: 0.9987\n",
      "Epoch 134/200\n",
      "2358/2358 [==============================] - 0s 70us/sample - loss: 1.8809e-07 - acc: 1.0000 - val_loss: 0.0073 - val_acc: 0.9987\n",
      "Epoch 135/200\n",
      "2358/2358 [==============================] - 0s 65us/sample - loss: 1.7786e-07 - acc: 1.0000 - val_loss: 0.0074 - val_acc: 0.9987\n",
      "Epoch 136/200\n",
      "2358/2358 [==============================] - 0s 53us/sample - loss: 1.6776e-07 - acc: 1.0000 - val_loss: 0.0074 - val_acc: 0.9987\n",
      "Epoch 137/200\n",
      "2358/2358 [==============================] - 0s 58us/sample - loss: 1.5858e-07 - acc: 1.0000 - val_loss: 0.0075 - val_acc: 0.9987\n",
      "Epoch 138/200\n",
      "2358/2358 [==============================] - 0s 62us/sample - loss: 1.5020e-07 - acc: 1.0000 - val_loss: 0.0075 - val_acc: 0.9987\n",
      "Epoch 139/200\n",
      "2358/2358 [==============================] - 0s 59us/sample - loss: 1.4195e-07 - acc: 1.0000 - val_loss: 0.0075 - val_acc: 0.9987\n",
      "Epoch 140/200\n",
      "2358/2358 [==============================] - 0s 50us/sample - loss: 1.3431e-07 - acc: 1.0000 - val_loss: 0.0076 - val_acc: 0.9987\n",
      "Epoch 141/200\n",
      "2358/2358 [==============================] - 0s 53us/sample - loss: 1.2685e-07 - acc: 1.0000 - val_loss: 0.0075 - val_acc: 0.9987\n",
      "Epoch 142/200\n",
      "2358/2358 [==============================] - 0s 49us/sample - loss: 1.2020e-07 - acc: 1.0000 - val_loss: 0.0076 - val_acc: 0.9987\n",
      "Epoch 143/200\n",
      "2358/2358 [==============================] - 0s 48us/sample - loss: 1.1351e-07 - acc: 1.0000 - val_loss: 0.0076 - val_acc: 0.9987\n",
      "Epoch 144/200\n",
      "2358/2358 [==============================] - 0s 48us/sample - loss: 1.0743e-07 - acc: 1.0000 - val_loss: 0.0076 - val_acc: 0.9987\n",
      "Epoch 145/200\n",
      "2358/2358 [==============================] - 0s 48us/sample - loss: 1.0178e-07 - acc: 1.0000 - val_loss: 0.0076 - val_acc: 0.9987\n",
      "Epoch 146/200\n",
      "2358/2358 [==============================] - 0s 49us/sample - loss: 9.6343e-08 - acc: 1.0000 - val_loss: 0.0077 - val_acc: 0.9987\n",
      "Epoch 147/200\n",
      "2358/2358 [==============================] - 0s 49us/sample - loss: 9.1122e-08 - acc: 1.0000 - val_loss: 0.0077 - val_acc: 0.9987\n",
      "Epoch 148/200\n",
      "2358/2358 [==============================] - 0s 54us/sample - loss: 8.6366e-08 - acc: 1.0000 - val_loss: 0.0077 - val_acc: 0.9987\n",
      "Epoch 149/200\n",
      "2358/2358 [==============================] - 0s 50us/sample - loss: 8.1929e-08 - acc: 1.0000 - val_loss: 0.0077 - val_acc: 0.9987\n",
      "Epoch 150/200\n",
      "2358/2358 [==============================] - 0s 48us/sample - loss: 7.7335e-08 - acc: 1.0000 - val_loss: 0.0078 - val_acc: 0.9987\n",
      "Epoch 151/200\n",
      "2358/2358 [==============================] - 0s 50us/sample - loss: 7.3559e-08 - acc: 1.0000 - val_loss: 0.0079 - val_acc: 0.9987\n",
      "Epoch 152/200\n",
      "2358/2358 [==============================] - 0s 50us/sample - loss: 6.9369e-08 - acc: 1.0000 - val_loss: 0.0079 - val_acc: 0.9987\n",
      "Epoch 153/200\n",
      "2358/2358 [==============================] - 0s 54us/sample - loss: 6.5896e-08 - acc: 1.0000 - val_loss: 0.0079 - val_acc: 0.9987\n",
      "Epoch 154/200\n",
      "2358/2358 [==============================] - 0s 48us/sample - loss: 6.2162e-08 - acc: 1.0000 - val_loss: 0.0079 - val_acc: 0.9987\n",
      "Epoch 155/200\n",
      "2358/2358 [==============================] - 0s 48us/sample - loss: 5.8823e-08 - acc: 1.0000 - val_loss: 0.0080 - val_acc: 0.9987\n",
      "Epoch 156/200\n",
      "2358/2358 [==============================] - 0s 51us/sample - loss: 5.5748e-08 - acc: 1.0000 - val_loss: 0.0080 - val_acc: 0.9987\n",
      "Epoch 157/200\n",
      "2358/2358 [==============================] - 0s 48us/sample - loss: 5.2926e-08 - acc: 1.0000 - val_loss: 0.0080 - val_acc: 0.9987\n",
      "Epoch 158/200\n",
      "2358/2358 [==============================] - 0s 48us/sample - loss: 5.0083e-08 - acc: 1.0000 - val_loss: 0.0080 - val_acc: 0.9987\n",
      "Epoch 159/200\n",
      "2358/2358 [==============================] - 0s 49us/sample - loss: 4.7483e-08 - acc: 1.0000 - val_loss: 0.0081 - val_acc: 0.9987\n",
      "Epoch 160/200\n",
      "2358/2358 [==============================] - 0s 48us/sample - loss: 4.4960e-08 - acc: 1.0000 - val_loss: 0.0081 - val_acc: 0.9987\n",
      "Epoch 161/200\n",
      "2358/2358 [==============================] - 0s 51us/sample - loss: 4.2556e-08 - acc: 1.0000 - val_loss: 0.0081 - val_acc: 0.9987\n",
      "Epoch 162/200\n",
      "2358/2358 [==============================] - 0s 52us/sample - loss: 4.0238e-08 - acc: 1.0000 - val_loss: 0.0082 - val_acc: 0.9987\n",
      "Epoch 163/200\n",
      "2358/2358 [==============================] - 0s 51us/sample - loss: 3.8185e-08 - acc: 1.0000 - val_loss: 0.0082 - val_acc: 0.9987\n",
      "Epoch 164/200\n",
      "2358/2358 [==============================] - 0s 53us/sample - loss: 3.6233e-08 - acc: 1.0000 - val_loss: 0.0081 - val_acc: 0.9987\n",
      "Epoch 165/200\n",
      "2358/2358 [==============================] - 0s 52us/sample - loss: 3.4403e-08 - acc: 1.0000 - val_loss: 0.0082 - val_acc: 0.9987\n",
      "Epoch 166/200\n",
      "2358/2358 [==============================] - 0s 53us/sample - loss: 3.2651e-08 - acc: 1.0000 - val_loss: 0.0083 - val_acc: 0.9987\n",
      "Epoch 167/200\n",
      "2358/2358 [==============================] - 0s 52us/sample - loss: 3.1007e-08 - acc: 1.0000 - val_loss: 0.0083 - val_acc: 0.9987\n",
      "Epoch 168/200\n",
      "2358/2358 [==============================] - 0s 52us/sample - loss: 2.9399e-08 - acc: 1.0000 - val_loss: 0.0083 - val_acc: 0.9987\n",
      "Epoch 169/200\n",
      "2358/2358 [==============================] - 0s 53us/sample - loss: 2.7992e-08 - acc: 1.0000 - val_loss: 0.0084 - val_acc: 0.9987\n",
      "Epoch 170/200\n",
      "2358/2358 [==============================] - 0s 54us/sample - loss: 2.6650e-08 - acc: 1.0000 - val_loss: 0.0084 - val_acc: 0.9987\n",
      "Epoch 171/200\n",
      "2358/2358 [==============================] - 0s 59us/sample - loss: 2.5302e-08 - acc: 1.0000 - val_loss: 0.0084 - val_acc: 0.9987\n"
     ]
    },
    {
     "name": "stdout",
     "output_type": "stream",
     "text": [
      "Epoch 172/200\n",
      "2358/2358 [==============================] - 0s 59us/sample - loss: 2.4013e-08 - acc: 1.0000 - val_loss: 0.0084 - val_acc: 0.9987\n",
      "Epoch 173/200\n",
      "2358/2358 [==============================] - 0s 51us/sample - loss: 2.2866e-08 - acc: 1.0000 - val_loss: 0.0084 - val_acc: 0.9987\n",
      "Epoch 174/200\n",
      "2358/2358 [==============================] - 0s 48us/sample - loss: 2.1688e-08 - acc: 1.0000 - val_loss: 0.0085 - val_acc: 0.9987\n",
      "Epoch 175/200\n",
      "2358/2358 [==============================] - 0s 51us/sample - loss: 2.0601e-08 - acc: 1.0000 - val_loss: 0.0085 - val_acc: 0.9987\n",
      "Epoch 176/200\n",
      "2358/2358 [==============================] - 0s 52us/sample - loss: 1.9548e-08 - acc: 1.0000 - val_loss: 0.0086 - val_acc: 0.9987\n",
      "Epoch 177/200\n",
      "2358/2358 [==============================] - 0s 52us/sample - loss: 1.8576e-08 - acc: 1.0000 - val_loss: 0.0085 - val_acc: 0.9987\n",
      "Epoch 178/200\n",
      "2358/2358 [==============================] - 0s 55us/sample - loss: 1.7711e-08 - acc: 1.0000 - val_loss: 0.0086 - val_acc: 0.9987\n",
      "Epoch 179/200\n",
      "2358/2358 [==============================] - 0s 58us/sample - loss: 1.6791e-08 - acc: 1.0000 - val_loss: 0.0086 - val_acc: 0.9987\n",
      "Epoch 180/200\n",
      "2358/2358 [==============================] - 0s 58us/sample - loss: 1.5875e-08 - acc: 1.0000 - val_loss: 0.0087 - val_acc: 0.9987\n",
      "Epoch 181/200\n",
      "2358/2358 [==============================] - 0s 59us/sample - loss: 1.5113e-08 - acc: 1.0000 - val_loss: 0.0088 - val_acc: 0.9987\n",
      "Epoch 182/200\n",
      "2358/2358 [==============================] - 0s 62us/sample - loss: 1.4375e-08 - acc: 1.0000 - val_loss: 0.0088 - val_acc: 0.9987\n",
      "Epoch 183/200\n",
      "2358/2358 [==============================] - 0s 60us/sample - loss: 1.3704e-08 - acc: 1.0000 - val_loss: 0.0088 - val_acc: 0.9987\n",
      "Epoch 184/200\n",
      "2358/2358 [==============================] - 0s 57us/sample - loss: 1.3160e-08 - acc: 1.0000 - val_loss: 0.0088 - val_acc: 0.9987\n",
      "Epoch 185/200\n",
      "2358/2358 [==============================] - 0s 58us/sample - loss: 1.2603e-08 - acc: 1.0000 - val_loss: 0.0087 - val_acc: 0.9987\n",
      "Epoch 186/200\n",
      "2358/2358 [==============================] - 0s 60us/sample - loss: 1.2212e-08 - acc: 1.0000 - val_loss: 0.0088 - val_acc: 0.9987\n",
      "Epoch 187/200\n",
      "2358/2358 [==============================] - 0s 65us/sample - loss: 1.1786e-08 - acc: 1.0000 - val_loss: 0.0088 - val_acc: 0.9987\n",
      "Epoch 188/200\n",
      "2358/2358 [==============================] - 0s 63us/sample - loss: 1.1308e-08 - acc: 1.0000 - val_loss: 0.0088 - val_acc: 0.9987\n",
      "Epoch 189/200\n",
      "2358/2358 [==============================] - 0s 49us/sample - loss: 1.0902e-08 - acc: 1.0000 - val_loss: 0.0089 - val_acc: 0.9987\n",
      "Epoch 190/200\n",
      "2358/2358 [==============================] - 0s 51us/sample - loss: 1.0463e-08 - acc: 1.0000 - val_loss: 0.0088 - val_acc: 0.9987\n",
      "Epoch 191/200\n",
      "2358/2358 [==============================] - 0s 50us/sample - loss: 1.0183e-08 - acc: 1.0000 - val_loss: 0.0089 - val_acc: 0.9987\n",
      "Epoch 192/200\n",
      "2358/2358 [==============================] - 0s 50us/sample - loss: 9.7837e-09 - acc: 1.0000 - val_loss: 0.0089 - val_acc: 0.9987\n",
      "Epoch 193/200\n",
      "2358/2358 [==============================] - 0s 49us/sample - loss: 9.4016e-09 - acc: 1.0000 - val_loss: 0.0089 - val_acc: 0.9987\n",
      "Epoch 194/200\n",
      "2358/2358 [==============================] - 0s 53us/sample - loss: 9.0685e-09 - acc: 1.0000 - val_loss: 0.0089 - val_acc: 0.9987\n",
      "Epoch 195/200\n",
      "2358/2358 [==============================] - 0s 55us/sample - loss: 8.8112e-09 - acc: 1.0000 - val_loss: 0.0090 - val_acc: 0.9987\n",
      "Epoch 196/200\n",
      "2358/2358 [==============================] - 0s 57us/sample - loss: 8.4260e-09 - acc: 1.0000 - val_loss: 0.0090 - val_acc: 0.9987\n",
      "Epoch 197/200\n",
      "2358/2358 [==============================] - 0s 55us/sample - loss: 8.1350e-09 - acc: 1.0000 - val_loss: 0.0090 - val_acc: 0.9987\n",
      "Epoch 198/200\n",
      "2358/2358 [==============================] - 0s 55us/sample - loss: 7.8846e-09 - acc: 1.0000 - val_loss: 0.0091 - val_acc: 0.9987\n",
      "Epoch 199/200\n",
      "2358/2358 [==============================] - 0s 56us/sample - loss: 7.5856e-09 - acc: 1.0000 - val_loss: 0.0091 - val_acc: 0.9987\n",
      "Epoch 200/200\n",
      "2358/2358 [==============================] - 0s 49us/sample - loss: 7.3015e-09 - acc: 1.0000 - val_loss: 0.0091 - val_acc: 0.9987\n"
     ]
    }
   ],
   "source": [
    "history = model.fit(partial_x_train,\n",
    "                    partial_y_train,\n",
    "                    epochs=200,\n",
    "                    batch_size=22,\n",
    "                    validation_data=(x_val, y_val),\n",
    "                    verbose=1)"
   ]
  },
  {
   "cell_type": "code",
   "execution_count": 23,
   "metadata": {},
   "outputs": [
    {
     "name": "stdout",
     "output_type": "stream",
     "text": [
      "3858/3858 [==============================] - 0s 12us/sample - loss: 7.0589e-05 - acc: 1.0000\n"
     ]
    }
   ],
   "source": [
    "results = model.evaluate(test_data, test_labels)"
   ]
  },
  {
   "cell_type": "code",
   "execution_count": 24,
   "metadata": {},
   "outputs": [
    {
     "name": "stdout",
     "output_type": "stream",
     "text": [
      "model saved to disk\n"
     ]
    }
   ],
   "source": [
    "model.save(\"abd_model.h5\")\n",
    "print(\"model saved to disk\")"
   ]
  },
  {
   "cell_type": "code",
   "execution_count": 25,
   "metadata": {},
   "outputs": [],
   "source": [
    "import sys\n",
    "if sys.version_info[0] < 3: \n",
    "    from StringIO import StringIO\n",
    "else:\n",
    "    from io import StringIO"
   ]
  },
  {
   "cell_type": "code",
   "execution_count": 26,
   "metadata": {},
   "outputs": [],
   "source": [
    "def evaluate_log(log):\n",
    "    test = StringIO(log)\n",
    "    df_evaluate = pd.read_csv(test, sep=\" \", header=None)\n",
    "    try:\n",
    "        df_evaluate[11], df_evaluate[12], df_evaluate[13] = df_evaluate[5].str.split(' ', 2).str\n",
    "    except ValueError:\n",
    "        return -1\n",
    "    df_evaluate.drop([0, 1, 2, 3, 4, 5, 7, 8, 9, 10, 13], axis=1, inplace=True)\n",
    "    if df_evaluate.at[0,11] != 'GET' and df_evaluate.at[0,11] != 'POST':\n",
    "        return -1\n",
    "    \n",
    "    df_evaluate[12].replace({r'^/$': '<BASE_URL>'}, regex=True, inplace=True)\n",
    "    df_evaluate[12].replace({r' \\%[\\%0-9A-Za-z]*': ' <PERCENT_URL> '},regex=True, inplace=True)\n",
    "    df_evaluate[12].replace({r'\\w+\\d+\\w+': ''},regex=True, inplace=True)\n",
    "    df_evaluate[12].replace({r'\\d{2,}': ''},regex=True, inplace=True)\n",
    "    df_evaluate[12].replace({r'\\[\\d*\\]': ' '},regex=True, inplace=True)\n",
    "    df_evaluate[12].replace({'/': ' ', ':': ' ', '\\.': ' ', '\\?': ' ', '=': ' ', '\\|': ' ', '&': ' '},regex=True, inplace=True)\n",
    "    df_evaluate[11].replace({'GET': 2, 'POST': 3}, inplace=True)\n",
    "    \n",
    "    df_evaluate[12] = df_evaluate[12].str.lower()\n",
    "    df_evaluate[12] = df_evaluate[12].apply(encode)\n",
    "    df_evaluate[12] = df_evaluate[12].apply(insert_start)\n",
    "    \n",
    "    df_evaluate[6].replace({307: '<TEMPORARY_REDIRECT>', 400: '<BAD_REQUEST>', 404: '<NOT_FOUND>', 200: '<OK>', 301: '<MOVED_PERMANTLY>'}, inplace=True)\n",
    "    df_evaluate[6] = df_evaluate[6].apply(encode_single)\n",
    "    \n",
    "    df_evaluate.columns = ['status', 'method', 'r_url']\n",
    "    \n",
    "    if len(df_evaluate.at[0, 'r_url']) < 11:\n",
    "        for i in range (len(df_evaluate.at[0,'r_url']), 11):\n",
    "            df_evaluate.at[0,'r_url'].append(0)\n",
    "            \n",
    "    for i in range(11):\n",
    "        df_evaluate.at[0, 'r_url' + str(i)] = df_evaluate.at[0, 'r_url'][i]\n",
    "\n",
    "    df_evaluate.drop(['r_url'], axis=1, inplace=True)\n",
    "    \n",
    "    single_evaluate = df_evaluate.values[0]\n",
    "    \n",
    "    print('Handled URL:')\n",
    "    print(decode(single_evaluate))\n",
    "    \n",
    "    single_evaluate = (np.expand_dims(single_evaluate, 0))\n",
    "\n",
    "    return round(model.predict(single_evaluate)[0][0], 4)"
   ]
  },
  {
   "cell_type": "code",
   "execution_count": 27,
   "metadata": {},
   "outputs": [
    {
     "name": "stdout",
     "output_type": "stream",
     "text": [
      "Unhandled word 'ga'\n",
      "Handled URL:\n",
      "<BAD_REQUEST> <GET> <URL_START> robots <PAD> <PAD> <PAD> <PAD> <PAD> <PAD> <PAD> <PAD> <PAD>\n"
     ]
    },
    {
     "data": {
      "text/plain": [
       "1.0"
      ]
     },
     "execution_count": 27,
     "metadata": {},
     "output_type": "execute_result"
    }
   ],
   "source": [
    "log = '''\n",
    "88.147.113.229 - - [06/Jul/2019:03:53:25 -0500] \"GET /robots.ga HTTP/1.1\" 400 173 \"-\" \"Mozilla/5.0\" \"-\"\n",
    "'''\n",
    "\n",
    "evaluate_log(log)"
   ]
  }
 ],
 "metadata": {
  "kernelspec": {
   "display_name": "Python 3",
   "language": "python",
   "name": "python3"
  },
  "language_info": {
   "codemirror_mode": {
    "name": "ipython",
    "version": 3
   },
   "file_extension": ".py",
   "mimetype": "text/x-python",
   "name": "python",
   "nbconvert_exporter": "python",
   "pygments_lexer": "ipython3",
   "version": "3.6.8"
  }
 },
 "nbformat": 4,
 "nbformat_minor": 2
}
