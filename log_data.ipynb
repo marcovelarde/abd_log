{
 "cells": [
  {
   "cell_type": "code",
   "execution_count": 1,
   "metadata": {},
   "outputs": [],
   "source": [
    "import numpy as np\n",
    "import pandas as pd\n",
    "\n",
    "from pandas import Series, DataFrame"
   ]
  },
  {
   "cell_type": "code",
   "execution_count": 2,
   "metadata": {},
   "outputs": [],
   "source": [
    "total_data = pd.read_csv('full_log.log', sep=\" \", header=None)"
   ]
  },
  {
   "cell_type": "code",
   "execution_count": 3,
   "metadata": {},
   "outputs": [],
   "source": [
    "total_data['time'] = total_data[3] + ' ' + total_data[4]\n",
    "total_data['method'], total_data['url'], total_data['protocol'] = total_data[5].str.split(' ', 2).str\n",
    "total_data = total_data.drop([1, 2, 3, 4, 5, 7], axis=1)"
   ]
  },
  {
   "cell_type": "code",
   "execution_count": 4,
   "metadata": {},
   "outputs": [],
   "source": [
    "df_aux = total_data[total_data.isna().any(axis=1)]"
   ]
  },
  {
   "cell_type": "code",
   "execution_count": 5,
   "metadata": {},
   "outputs": [
    {
     "name": "stdout",
     "output_type": "stream",
     "text": [
      "7823 - 60 = 7763\n",
      "then everything is ok\n"
     ]
    }
   ],
   "source": [
    "df = total_data.dropna()\n",
    "\n",
    "print(len(total_data), '-', len(df_aux), '=', len(df))\n",
    "print('then everything is ok') if (len(total_data) - len(df_aux) == len(df)) else print('then everything is wrong')"
   ]
  },
  {
   "cell_type": "code",
   "execution_count": 6,
   "metadata": {
    "scrolled": false
   },
   "outputs": [
    {
     "name": "stdout",
     "output_type": "stream",
     "text": [
      "there was 110 http_referer notnull records\n"
     ]
    }
   ],
   "source": [
    "df_aux = df.copy()\n",
    "\n",
    "df_aux[[8]] = df[[8]].replace('-', pd.np.nan)\n",
    "df_aux = df_aux[~df_aux.isna().any(axis=1)]\n",
    "\n",
    "print('there was', len(df_aux), 'http_referer notnull records')\n",
    "\n",
    "df = df.drop([8], axis=1)"
   ]
  },
  {
   "cell_type": "code",
   "execution_count": 7,
   "metadata": {
    "scrolled": true
   },
   "outputs": [
    {
     "name": "stdout",
     "output_type": "stream",
     "text": [
      "there was 13 http_x_forwarded_for notnull records\n"
     ]
    }
   ],
   "source": [
    "df_aux = df.copy()\n",
    "df_aux[[10]] = df[[10]].replace('-', pd.np.nan)\n",
    "\n",
    "df_aux = df_aux[~df_aux.isna().any(axis=1)]\n",
    "\n",
    "print('there was', len(df_aux), 'http_x_forwarded_for notnull records')\n",
    "\n",
    "df = df.drop([10], axis=1)"
   ]
  },
  {
   "cell_type": "code",
   "execution_count": 8,
   "metadata": {},
   "outputs": [
    {
     "name": "stdout",
     "output_type": "stream",
     "text": [
      "there was 44 CONNECT, HEAD, OPTIONS, PROPFIND, REQMOD or EMPTY URL records\n"
     ]
    }
   ],
   "source": [
    "df_aux = df.copy()\n",
    "\n",
    "df[['method']] = df[['method']].replace('CONNECT', pd.np.nan)\n",
    "df[['method']] = df[['method']].replace('HEAD', pd.np.nan)\n",
    "df[['method']] = df[['method']].replace('OPTIONS', pd.np.nan)\n",
    "df[['method']] = df[['method']].replace('PROPFIND', pd.np.nan)\n",
    "df[['method']] = df[['method']].replace('REQMOD', pd.np.nan)\n",
    "\n",
    "df[['url']] = df[['url']].replace('', pd.np.nan)\n",
    "\n",
    "df = df.dropna()\n",
    "\n",
    "print('there was', len(df_aux) - len(df), 'CONNECT, HEAD, OPTIONS, PROPFIND, REQMOD or EMPTY URL records')"
   ]
  },
  {
   "cell_type": "code",
   "execution_count": 9,
   "metadata": {
    "scrolled": true
   },
   "outputs": [],
   "source": [
    "df.columns = ['remote_addr', 'status', 'http_user_agent', 'time_local', 'request_method', 'request_url', 'request_protocol']\n",
    "df_aux.columns = ['remote_addr', 'status', 'http_user_agent', 'time_local', 'request_method', 'request_url', 'request_protocol']\n",
    "\n",
    "df = df.drop(['remote_addr', 'time_local', 'request_protocol'], axis=1)"
   ]
  },
  {
   "cell_type": "code",
   "execution_count": 10,
   "metadata": {},
   "outputs": [],
   "source": [
    "df[['http_user_agent']] = df[['http_user_agent']].replace('-', '<NO_DATA>')\n",
    "df = df[['http_user_agent', 'request_method', 'status', 'request_url']]"
   ]
  },
  {
   "cell_type": "code",
   "execution_count": 11,
   "metadata": {},
   "outputs": [],
   "source": [
    "# Deleting 3 bad request manually\n",
    "df = df.drop([887, 3671, 3759], axis=0)\n",
    "df = df.reset_index(drop=True)\n",
    "df['is_evil'] = ''"
   ]
  },
  {
   "cell_type": "code",
   "execution_count": 12,
   "metadata": {
    "scrolled": false
   },
   "outputs": [
    {
     "name": "stdout",
     "output_type": "stream",
     "text": [
      "there are 6757 php urls, 4 busybox urls, 1457 xml urls, 51 robots.txt urls\n",
      "total evilized records are 6866 from 7719\n",
      "leaving 853 records to edit\n"
     ]
    }
   ],
   "source": [
    "cont = 0\n",
    "cont2 = 0\n",
    "cont3 = 0\n",
    "cont4 = 0\n",
    "cont_t = 0\n",
    "q_str = 'php'\n",
    "q_str2 = 'busybox'\n",
    "q_str3 = 'xml'\n",
    "q_str4 = 'robots.txt'\n",
    "for i in df.itertuples():\n",
    "    is_counted = False\n",
    "    if q_str in i[4]:\n",
    "        cont += 1\n",
    "        df.at[i[0], 'is_evil'] = '1'\n",
    "        if not is_counted:\n",
    "            cont_t += 1\n",
    "            is_counted = True\n",
    "    if q_str2 in i[4]:\n",
    "        cont2 += 1\n",
    "        df.at[i[0], 'is_evil'] = '1'\n",
    "        if not is_counted:\n",
    "            cont_t += 1\n",
    "            is_counted = True\n",
    "    if q_str3 in i[4]:\n",
    "        cont3 += 1\n",
    "        df.at[i[0], 'is_evil'] = '1'\n",
    "        if not is_counted:\n",
    "            cont_t += 1\n",
    "            is_counted = True\n",
    "    if q_str4 in i[4]:\n",
    "        cont4 += 1\n",
    "        df.at[i[0], 'is_evil'] = '1'\n",
    "        if not is_counted:\n",
    "            cont_t += 1\n",
    "            is_counted = True\n",
    "\n",
    "        \n",
    "print('there are', cont, q_str, 'urls,', cont2, q_str2, 'urls,', cont3, q_str3, 'urls,', cont4, q_str4, 'urls')\n",
    "print('total evilized records are', cont_t, 'from', len(df))\n",
    "print('leaving', len(df) - cont_t, 'records to edit')"
   ]
  },
  {
   "cell_type": "code",
   "execution_count": 13,
   "metadata": {},
   "outputs": [],
   "source": [
    "df = df.sort_values('is_evil')"
   ]
  },
  {
   "cell_type": "code",
   "execution_count": 14,
   "metadata": {},
   "outputs": [
    {
     "name": "stdout",
     "output_type": "stream",
     "text": [
      "total records: 7719\n"
     ]
    }
   ],
   "source": [
    "import openpyxl\n",
    "\n",
    "df.to_excel('log_data.xlsx')\n",
    "\n",
    "print('total records:',len(df))"
   ]
  }
 ],
 "metadata": {
  "kernelspec": {
   "display_name": "Python 3",
   "language": "python",
   "name": "python3"
  },
  "language_info": {
   "codemirror_mode": {
    "name": "ipython",
    "version": 3
   },
   "file_extension": ".py",
   "mimetype": "text/x-python",
   "name": "python",
   "nbconvert_exporter": "python",
   "pygments_lexer": "ipython3",
   "version": "3.6.8"
  }
 },
 "nbformat": 4,
 "nbformat_minor": 2
}
