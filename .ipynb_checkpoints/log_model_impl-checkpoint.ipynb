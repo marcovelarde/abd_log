{
 "cells": [
  {
   "cell_type": "code",
   "execution_count": 1,
   "metadata": {},
   "outputs": [],
   "source": [
    "from __future__ import absolute_import, division, print_function, unicode_literals\n",
    "\n",
    "import tensorflow as tf\n",
    "from tensorflow.keras.models import load_model"
   ]
  },
  {
   "cell_type": "code",
   "execution_count": 2,
   "metadata": {},
   "outputs": [
    {
     "name": "stderr",
     "output_type": "stream",
     "text": [
      "WARNING: Logging before flag parsing goes to stderr.\n",
      "W0711 09:34:17.852390 140623719216960 deprecation.py:506] From /usr/local/lib/python3.6/dist-packages/tensorflow/python/keras/initializers.py:119: calling RandomUniform.__init__ (from tensorflow.python.ops.init_ops) with dtype is deprecated and will be removed in a future version.\n",
      "Instructions for updating:\n",
      "Call initializer instance with the dtype argument instead of passing it to the constructor\n",
      "W0711 09:34:17.871783 140623719216960 deprecation.py:506] From /usr/local/lib/python3.6/dist-packages/tensorflow/python/ops/init_ops.py:97: calling GlorotUniform.__init__ (from tensorflow.python.ops.init_ops) with dtype is deprecated and will be removed in a future version.\n",
      "Instructions for updating:\n",
      "Call initializer instance with the dtype argument instead of passing it to the constructor\n",
      "W0711 09:34:17.872365 140623719216960 deprecation.py:506] From /usr/local/lib/python3.6/dist-packages/tensorflow/python/ops/init_ops.py:1251: calling VarianceScaling.__init__ (from tensorflow.python.ops.init_ops) with dtype is deprecated and will be removed in a future version.\n",
      "Instructions for updating:\n",
      "Call initializer instance with the dtype argument instead of passing it to the constructor\n",
      "W0711 09:34:17.873286 140623719216960 deprecation.py:506] From /usr/local/lib/python3.6/dist-packages/tensorflow/python/ops/init_ops.py:97: calling Zeros.__init__ (from tensorflow.python.ops.init_ops) with dtype is deprecated and will be removed in a future version.\n",
      "Instructions for updating:\n",
      "Call initializer instance with the dtype argument instead of passing it to the constructor\n",
      "W0711 09:34:17.975219 140623719216960 deprecation.py:323] From /usr/local/lib/python3.6/dist-packages/tensorflow/python/ops/nn_impl.py:180: add_dispatch_support.<locals>.wrapper (from tensorflow.python.ops.array_ops) is deprecated and will be removed in a future version.\n",
      "Instructions for updating:\n",
      "Use tf.where in 2.0, which has the same broadcast rule as np.where\n"
     ]
    }
   ],
   "source": [
    "model = load_model('abd_model.h5')"
   ]
  },
  {
   "cell_type": "code",
   "execution_count": 3,
   "metadata": {},
   "outputs": [],
   "source": [
    "import numpy as np\n",
    "import pandas as pd\n",
    "import pickle\n",
    "import sys\n",
    "if sys.version_info[0] < 3: \n",
    "    from StringIO import StringIO\n",
    "else:\n",
    "    from io import StringIO\n",
    "\n",
    "with open('abd_variables.pkl', 'rb') as f:\n",
    "    word_index, reverse_word_index = pickle.load(f)\n",
    "    \n",
    "def decode(ls):\n",
    "    return ' '.join([reverse_word_index.get(i, '?') for i in ls])\n",
    "\n",
    "def encode(text):\n",
    "    text_ls = []\n",
    "    for i in text.split():\n",
    "        try:\n",
    "            text_ls.append(word_index[i])\n",
    "        except KeyError:\n",
    "            print('Unhandled word \\'' + i + '\\'')\n",
    "    return text_ls\n",
    "\n",
    "def decode_single(text):\n",
    "    return reverse_word_index.get(text)\n",
    "\n",
    "def encode_single(text):\n",
    "    return word_index.get(text)\n",
    "\n",
    "def insert_start(ls):\n",
    "    ls.insert(0, 1)\n",
    "    return ls\n",
    "\n",
    "def evaluate_log(log):\n",
    "    test = StringIO(log)\n",
    "    df_evaluate = pd.read_csv(test, sep=\" \", header=None)\n",
    "    try:\n",
    "        df_evaluate[11], df_evaluate[12], df_evaluate[13] = df_evaluate[5].str.split(' ', 2).str\n",
    "    except ValueError:\n",
    "        return -1\n",
    "    df_evaluate.drop([0, 1, 2, 3, 4, 5, 7, 8, 9, 10, 13], axis=1, inplace=True)\n",
    "    if df_evaluate.at[0,11] != 'GET' and df_evaluate.at[0,11] != 'POST':\n",
    "        return -1\n",
    "    \n",
    "    df_evaluate[12].replace({r'^/$': '<BASE_URL>'}, regex=True, inplace=True)\n",
    "    df_evaluate[12].replace({r' \\%[\\%0-9A-Za-z]*': ' <PERCENT_URL> '},regex=True, inplace=True)\n",
    "    df_evaluate[12].replace({r'\\w+\\d+\\w+': ''},regex=True, inplace=True)\n",
    "    df_evaluate[12].replace({r'\\d{2,}': ''},regex=True, inplace=True)\n",
    "    df_evaluate[12].replace({r'\\[\\d*\\]': ' '},regex=True, inplace=True)\n",
    "    df_evaluate[12].replace({'/': ' ', ':': ' ', '\\.': ' ', '\\?': ' ', '=': ' ', '\\|': ' ', '&': ' '},regex=True, inplace=True)\n",
    "    df_evaluate[11].replace({'GET': 2, 'POST': 3}, inplace=True)\n",
    "    \n",
    "    df_evaluate[12] = df_evaluate[12].str.lower()\n",
    "    df_evaluate[12] = df_evaluate[12].apply(encode)\n",
    "    df_evaluate[12] = df_evaluate[12].apply(insert_start)\n",
    "    \n",
    "    df_evaluate[6].replace({307: '<TEMPORARY_REDIRECT>', 400: '<BAD_REQUEST>', 404: '<NOT_FOUND>', 200: '<OK>', 301: '<MOVED_PERMANTLY>'}, inplace=True)\n",
    "    df_evaluate[6] = df_evaluate[6].apply(encode_single)\n",
    "    \n",
    "    df_evaluate.columns = ['status', 'method', 'r_url']\n",
    "    \n",
    "    if len(df_evaluate.at[0, 'r_url']) < 11:\n",
    "        for i in range (len(df_evaluate.at[0,'r_url']), 11):\n",
    "            df_evaluate.at[0,'r_url'].append(0)\n",
    "            \n",
    "    for i in range(11):\n",
    "        df_evaluate.at[0, 'r_url' + str(i)] = df_evaluate.at[0, 'r_url'][i]\n",
    "\n",
    "    df_evaluate.drop(['r_url'], axis=1, inplace=True)\n",
    "    \n",
    "    single_evaluate = df_evaluate.values[0]\n",
    "    \n",
    "    print('Handled URL:')\n",
    "    print(decode(single_evaluate))\n",
    "    \n",
    "    single_evaluate = (np.expand_dims(single_evaluate, 0))\n",
    "\n",
    "    return round(model.predict(single_evaluate)[0][0], 4)"
   ]
  },
  {
   "cell_type": "code",
   "execution_count": 6,
   "metadata": {},
   "outputs": [
    {
     "name": "stdout",
     "output_type": "stream",
     "text": [
      "Unhandled word 'ga'\n",
      "Unhandled word 'vas'\n",
      "Unhandled word 'caer'\n",
      "Handled URL:\n",
      "<BAD_REQUEST> <GET> <URL_START> robots a <PAD> <PAD> <PAD> <PAD> <PAD> <PAD> <PAD> <PAD>\n"
     ]
    },
    {
     "data": {
      "text/plain": [
       "1.0"
      ]
     },
     "execution_count": 6,
     "metadata": {},
     "output_type": "execute_result"
    }
   ],
   "source": [
    "log = '''\n",
    "88.147.113.229 - - [06/Jul/2019:03:53:25 -0500] \"GET /robots.ga.vas.a.caer HTTP/1.1\" 400 173 \"-\" \"Mozilla/5.0\" \"-\"\n",
    "'''\n",
    "\n",
    "evaluate_log(log)"
   ]
  }
 ],
 "metadata": {
  "kernelspec": {
   "display_name": "Python 3",
   "language": "python",
   "name": "python3"
  },
  "language_info": {
   "codemirror_mode": {
    "name": "ipython",
    "version": 3
   },
   "file_extension": ".py",
   "mimetype": "text/x-python",
   "name": "python",
   "nbconvert_exporter": "python",
   "pygments_lexer": "ipython3",
   "version": "3.6.8"
  }
 },
 "nbformat": 4,
 "nbformat_minor": 2
}
