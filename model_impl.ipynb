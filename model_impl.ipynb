{
 "cells": [
  {
   "cell_type": "markdown",
   "metadata": {},
   "source": [
    "# ABD final project: Model implementation\n",
    "## Part 1: Data encoding\n",
    "### Python version\n",
    "3.5 onwards\n",
    "\n",
    "### Modules needed\n",
    "* keras\n",
    "* numpy\n",
    "* pandas\n",
    "* pickle"
   ]
  },
  {
   "cell_type": "code",
   "execution_count": 1,
   "metadata": {},
   "outputs": [],
   "source": [
    "# Uncoment to install modules inside the notebook\n",
    "# !pip install numpy\n",
    "# !pip install pandas\n",
    "# !pip install tensorflow\n",
    "# !pip install pickle\n",
    "\n",
    "from __future__ import absolute_import, division, print_function, unicode_literals\n",
    "\n",
    "import tensorflow as tf\n",
    "from tensorflow.keras.models import load_model\n",
    "from tensorflow.keras.preprocessing.sequence import pad_sequences\n",
    "\n",
    "from io import StringIO\n",
    "from pandas import Series, DataFrame\n",
    "\n",
    "import numpy as np\n",
    "import pandas as pd\n",
    "import pickle\n",
    "\n",
    "import abd_utils"
   ]
  },
  {
   "cell_type": "code",
   "execution_count": 2,
   "metadata": {},
   "outputs": [
    {
     "name": "stderr",
     "output_type": "stream",
     "text": [
      "WARNING: Logging before flag parsing goes to stderr.\n",
      "W0718 19:49:48.157860 139964249794368 deprecation.py:506] From /usr/local/lib/python3.6/dist-packages/tensorflow/python/keras/initializers.py:119: calling RandomUniform.__init__ (from tensorflow.python.ops.init_ops) with dtype is deprecated and will be removed in a future version.\n",
      "Instructions for updating:\n",
      "Call initializer instance with the dtype argument instead of passing it to the constructor\n",
      "W0718 19:49:48.177998 139964249794368 deprecation.py:506] From /usr/local/lib/python3.6/dist-packages/tensorflow/python/ops/init_ops.py:97: calling GlorotUniform.__init__ (from tensorflow.python.ops.init_ops) with dtype is deprecated and will be removed in a future version.\n",
      "Instructions for updating:\n",
      "Call initializer instance with the dtype argument instead of passing it to the constructor\n",
      "W0718 19:49:48.178653 139964249794368 deprecation.py:506] From /usr/local/lib/python3.6/dist-packages/tensorflow/python/ops/init_ops.py:1251: calling VarianceScaling.__init__ (from tensorflow.python.ops.init_ops) with dtype is deprecated and will be removed in a future version.\n",
      "Instructions for updating:\n",
      "Call initializer instance with the dtype argument instead of passing it to the constructor\n",
      "W0718 19:49:48.179635 139964249794368 deprecation.py:506] From /usr/local/lib/python3.6/dist-packages/tensorflow/python/ops/init_ops.py:97: calling Zeros.__init__ (from tensorflow.python.ops.init_ops) with dtype is deprecated and will be removed in a future version.\n",
      "Instructions for updating:\n",
      "Call initializer instance with the dtype argument instead of passing it to the constructor\n",
      "W0718 19:49:48.283851 139964249794368 deprecation.py:323] From /usr/local/lib/python3.6/dist-packages/tensorflow/python/ops/nn_impl.py:180: add_dispatch_support.<locals>.wrapper (from tensorflow.python.ops.array_ops) is deprecated and will be removed in a future version.\n",
      "Instructions for updating:\n",
      "Use tf.where in 2.0, which has the same broadcast rule as np.where\n"
     ]
    }
   ],
   "source": [
    "# Loading the model from disk\n",
    "model = load_model('model/abd_model.h5')\n",
    "\n",
    "# Loading the vocabularys from disk\n",
    "with open('model/abd_variables.pkl', 'rb') as f:\n",
    "    word_index, reverse_word_index = pickle.load(f)\n",
    "\n",
    "# Loading functions for handling (encoding and decoding) the urls based on the vocabulary: ABDUtils class\n",
    "utils = abd_utils.ABDUtils(word_index, reverse_word_index)"
   ]
  },
  {
   "cell_type": "code",
   "execution_count": 3,
   "metadata": {},
   "outputs": [],
   "source": [
    "# Defining a function to evaluate a single log (String) and return the probability of it being evil\n",
    "def evaluate_log(log):\n",
    "    # Load the log in a way that read_csv can use it as a parameter\n",
    "    test = StringIO(log)\n",
    "    \n",
    "    # String format error handling\n",
    "    try:\n",
    "        df_evaluate = pd.read_csv(test, sep=\" \", header=None)\n",
    "        df_evaluate[11], df_evaluate[12], df_evaluate[13] = df_evaluate[5].str.split(' ', 2).str\n",
    "        df_evaluate.drop([0, 1, 2, 3, 4, 5, 7, 8, 9, 10, 13], axis=1, inplace=True)\n",
    "    except ValueError:\n",
    "        return -1\n",
    "    except KeyError:\n",
    "        return -1\n",
    "    \n",
    "    # URL request method format error handling\n",
    "    if df_evaluate.at[0,11] != 'GET' and df_evaluate.at[0,11] != 'POST':\n",
    "        return -1\n",
    "    \n",
    "    # Formating the String\n",
    "    df_evaluate[12].replace(r'^/$', '<BASE_URL>', regex=True, inplace=True)\n",
    "    df_evaluate[12].replace(r'\\%+[\\%0-9A-Za-z]*', ' <PERCENT_URL> ',regex=True, inplace=True)\n",
    "    df_evaluate[12].replace(r'\\w+\\d+\\w+', ' ',regex=True, inplace=True)\n",
    "    df_evaluate[12].replace(r'\\d{2,}', ' ',regex=True, inplace=True)\n",
    "    df_evaluate[12].replace(r'\\[\\d*\\]', ' ',regex=True, inplace=True)\n",
    "    df_evaluate[12].replace({'/': ' ', ':': ' ', '\\.': ' ', '\\?': ' ', '=': ' ', '\\|': ' ', '&': ' '},regex=True, inplace=True)\n",
    "    \n",
    "    # Formating the HTTP request method\n",
    "    df_evaluate[11].replace({'GET': 2, 'POST': 3}, inplace=True)\n",
    "    \n",
    "    # Encoding the HTTP request method\n",
    "    df_evaluate[12] = df_evaluate[12].str.lower()\n",
    "    df_evaluate[12] = df_evaluate[12].apply(utils.encode)\n",
    "    df_evaluate[12] = df_evaluate[12].apply(abd_utils.insert_start)\n",
    "    \n",
    "    # Encoding the HTTP response status\n",
    "    df_evaluate[6].replace({307: '<TEMPORARY_REDIRECT>', 400: '<BAD_REQUEST>', 404: '<NOT_FOUND>', 200: '<OK>', 301: '<MOVED_PERMANTLY>'}, inplace=True)\n",
    "    df_evaluate[6] = df_evaluate[6].apply(utils.encode_single)\n",
    "    \n",
    "    # Reordering the columns\n",
    "    df_evaluate.columns = ['status', 'method', 'r_url']\n",
    "    \n",
    "    # Normalizing the request url length\n",
    "    if len(df_evaluate.at[0, 'r_url']) < 11:\n",
    "        for i in range (len(df_evaluate.at[0,'r_url']), 11):\n",
    "            df_evaluate.at[0,'r_url'].append(0)\n",
    "    \n",
    "    # Moving the request url encoded data from its column to new columns, one encoded String per column\n",
    "    for i in range(11):\n",
    "        df_evaluate.at[0, 'r_url' + str(i)] = df_evaluate.at[0, 'r_url'][i]\n",
    "    \n",
    "    # Dropping the request url column\n",
    "    df_evaluate.drop(['r_url'], axis=1, inplace=True)\n",
    "    \n",
    "    # Getting the single log data Array from the values of the DataFrame\n",
    "    single_evaluate = df_evaluate.values[0]\n",
    "    \n",
    "    # Printing the encoded, then decoded request url\n",
    "    print('Handled URL:')\n",
    "    print(utils.decode(single_evaluate))\n",
    "    \n",
    "    # Adding a dimension (to fit the model input dimension) to the log, then evaluate it\n",
    "    single_evaluate = (np.expand_dims(single_evaluate, 0))\n",
    "    \n",
    "    # Returning the 4 digits rounded percentage prediction\n",
    "    return round(model.predict(single_evaluate)[0][0], 4)"
   ]
  },
  {
   "cell_type": "code",
   "execution_count": 4,
   "metadata": {},
   "outputs": [
    {
     "name": "stdout",
     "output_type": "stream",
     "text": [
      "Handled URL:\n",
      "<BAD_REQUEST> <GET> <URL_START> favicon ico php <PAD> <PAD> <PAD> <PAD> <PAD> <PAD> <PAD>\n"
     ]
    },
    {
     "data": {
      "text/plain": [
       "0.9999"
      ]
     },
     "execution_count": 4,
     "metadata": {},
     "output_type": "execute_result"
    }
   ],
   "source": [
    "log = '''\n",
    "88.147.113.229 - - [06/Jul/2019:03:53:25 -0500] \"GET /favicon.ico.php HTTP/1.1\" 400 173 \"-\" \"Mozilla/5.0\" \"-\"\n",
    "'''\n",
    "\n",
    "evaluate_log(log)"
   ]
  },
  {
   "cell_type": "code",
   "execution_count": 5,
   "metadata": {},
   "outputs": [],
   "source": [
    "def evaluate_logs(logs_filename):\n",
    "    max_lenght = 11\n",
    "    \n",
    "    df_evaluate = pd.read_csv(logs_filename, sep=\" \", header=None)\n",
    "    len_before = len(df_evaluate)\n",
    "    \n",
    "    df_evaluate[11], df_evaluate[12], df_evaluate[13] = df_evaluate[5].str.split(' ', 2).str\n",
    "    \n",
    "    df_evaluate.drop([0, 1, 2, 3, 4, 5, 7, 8, 9, 10, 13], axis=1, inplace=True)\n",
    "    \n",
    "    df_evaluate[11].replace(r'^(?!GET$|POST$).*', pd.np.nan, inplace=True, regex=True)\n",
    "    \n",
    "    df_evaluate[12].replace({r'^/$': '<BASE_URL>'}, regex=True, inplace=True)\n",
    "    df_evaluate[12].replace({r' \\%[\\%0-9A-Za-z]*': ' <PERCENT_URL> '},regex=True, inplace=True)\n",
    "    df_evaluate[12].replace({r'\\w+\\d+\\w+': ''},regex=True, inplace=True)\n",
    "    df_evaluate[12].replace({r'\\d{2,}': ''},regex=True, inplace=True)\n",
    "    df_evaluate[12].replace({r'\\[\\d*\\]': ' '},regex=True, inplace=True)\n",
    "    df_evaluate[12].replace({'/': ' ', ':': ' ', '\\.': ' ', '\\?': ' ', '=': ' ', '\\|': ' ', '&': ' '},regex=True, inplace=True)\n",
    "    df_evaluate[11].replace({'GET': 2, 'POST': 3}, inplace=True)\n",
    "    \n",
    "    df_aux = df_evaluate[df_evaluate.isna().any(axis=1)]\n",
    "    len_aux = len(df_aux)\n",
    "    df_evaluate.dropna(inplace=True)\n",
    "    \n",
    "    df_evaluate[12] = df_evaluate[12].str.lower()\n",
    "    df_evaluate[12] = df_evaluate[12].apply(encode)\n",
    "    df_evaluate[12] = df_evaluate[12].apply(insert_start)\n",
    "    \n",
    "    df_evaluate[6].replace({307: '<TEMPORARY_REDIRECT>', 400: '<BAD_REQUEST>', 404: '<NOT_FOUND>', 200: '<OK>', 301: '<MOVED_PERMANTLY>'}, inplace=True)\n",
    "    df_evaluate[6] = df_evaluate[6].apply(encode_single)\n",
    "    \n",
    "    df_evaluate.columns = ['status', 'method', 'r_url']\n",
    "    aux_request_data = pad_sequences(df_evaluate['r_url'].values,\n",
    "                                     value=word_index[\"<PAD>\"],\n",
    "                                     padding='post',\n",
    "                                     maxlen=max_lenght)\n",
    "    df_evaluate['r_url'] = Series(aux_request_data.tolist())\n",
    "    \n",
    "    \n",
    "    df_aux = df_evaluate[df_evaluate.isna().any(axis=1)]\n",
    "    len_aux += len(df_aux)\n",
    "    df_evaluate.dropna(inplace=True)\n",
    "    \n",
    "    len_total = len(df_evaluate)\n",
    "    \n",
    "    for i in range(max_lenght):\n",
    "        df_evaluate['r_url' + str(i)] = 0\n",
    "\n",
    "    for i in df_evaluate.itertuples():\n",
    "        for j in range(max_lenght):\n",
    "            df_evaluate.at[i[0], 'r_url' + str(j)] = i[3][j]\n",
    "\n",
    "    df_evaluate.drop(['r_url'], axis=1, inplace=True)\n",
    "\n",
    "    to_evaluate_data = df_evaluate.values\n",
    "    \n",
    "    result = model.predict(to_evaluate_data)\n",
    "    \n",
    "    bad_logs = 0\n",
    "    good_logs = 0\n",
    "    for i in result:\n",
    "        if round(i[0] * 100, 4) > 50:\n",
    "            bad_logs += 1\n",
    "        else:\n",
    "            good_logs += 1\n",
    "            \n",
    "    print(len_before, len_total, len_aux)    \n",
    "    print(bad_logs, good_logs)\n",
    "    \n"
   ]
  },
  {
   "cell_type": "code",
   "execution_count": 6,
   "metadata": {
    "scrolled": true
   },
   "outputs": [
    {
     "ename": "NameError",
     "evalue": "name 'encode' is not defined",
     "output_type": "error",
     "traceback": [
      "\u001b[0;31m\u001b[0m",
      "\u001b[0;31mNameError\u001b[0mTraceback (most recent call last)",
      "\u001b[0;32m<ipython-input-6-909d6615196e>\u001b[0m in \u001b[0;36m<module>\u001b[0;34m\u001b[0m\n\u001b[0;32m----> 1\u001b[0;31m \u001b[0mevaluate_logs\u001b[0m\u001b[0;34m(\u001b[0m\u001b[0;34m'data/partial_log.log'\u001b[0m\u001b[0;34m)\u001b[0m\u001b[0;34m\u001b[0m\u001b[0;34m\u001b[0m\u001b[0m\n\u001b[0m",
      "\u001b[0;32m<ipython-input-5-da1b3801a496>\u001b[0m in \u001b[0;36mevaluate_logs\u001b[0;34m(logs_filename)\u001b[0m\n\u001b[1;32m     24\u001b[0m \u001b[0;34m\u001b[0m\u001b[0m\n\u001b[1;32m     25\u001b[0m     \u001b[0mdf_evaluate\u001b[0m\u001b[0;34m[\u001b[0m\u001b[0;36m12\u001b[0m\u001b[0;34m]\u001b[0m \u001b[0;34m=\u001b[0m \u001b[0mdf_evaluate\u001b[0m\u001b[0;34m[\u001b[0m\u001b[0;36m12\u001b[0m\u001b[0;34m]\u001b[0m\u001b[0;34m.\u001b[0m\u001b[0mstr\u001b[0m\u001b[0;34m.\u001b[0m\u001b[0mlower\u001b[0m\u001b[0;34m(\u001b[0m\u001b[0;34m)\u001b[0m\u001b[0;34m\u001b[0m\u001b[0;34m\u001b[0m\u001b[0m\n\u001b[0;32m---> 26\u001b[0;31m     \u001b[0mdf_evaluate\u001b[0m\u001b[0;34m[\u001b[0m\u001b[0;36m12\u001b[0m\u001b[0;34m]\u001b[0m \u001b[0;34m=\u001b[0m \u001b[0mdf_evaluate\u001b[0m\u001b[0;34m[\u001b[0m\u001b[0;36m12\u001b[0m\u001b[0;34m]\u001b[0m\u001b[0;34m.\u001b[0m\u001b[0mapply\u001b[0m\u001b[0;34m(\u001b[0m\u001b[0mencode\u001b[0m\u001b[0;34m)\u001b[0m\u001b[0;34m\u001b[0m\u001b[0;34m\u001b[0m\u001b[0m\n\u001b[0m\u001b[1;32m     27\u001b[0m     \u001b[0mdf_evaluate\u001b[0m\u001b[0;34m[\u001b[0m\u001b[0;36m12\u001b[0m\u001b[0;34m]\u001b[0m \u001b[0;34m=\u001b[0m \u001b[0mdf_evaluate\u001b[0m\u001b[0;34m[\u001b[0m\u001b[0;36m12\u001b[0m\u001b[0;34m]\u001b[0m\u001b[0;34m.\u001b[0m\u001b[0mapply\u001b[0m\u001b[0;34m(\u001b[0m\u001b[0minsert_start\u001b[0m\u001b[0;34m)\u001b[0m\u001b[0;34m\u001b[0m\u001b[0;34m\u001b[0m\u001b[0m\n\u001b[1;32m     28\u001b[0m \u001b[0;34m\u001b[0m\u001b[0m\n",
      "\u001b[0;31mNameError\u001b[0m: name 'encode' is not defined"
     ]
    }
   ],
   "source": [
    "evaluate_logs('data/partial_log.log')"
   ]
  }
 ],
 "metadata": {
  "kernelspec": {
   "display_name": "Python 3",
   "language": "python",
   "name": "python3"
  },
  "language_info": {
   "codemirror_mode": {
    "name": "ipython",
    "version": 3
   },
   "file_extension": ".py",
   "mimetype": "text/x-python",
   "name": "python",
   "nbconvert_exporter": "python",
   "pygments_lexer": "ipython3",
   "version": "3.6.8"
  }
 },
 "nbformat": 4,
 "nbformat_minor": 2
}
